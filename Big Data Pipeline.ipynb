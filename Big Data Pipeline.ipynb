{
 "cells": [
  {
   "cell_type": "code",
   "execution_count": 1,
   "id": "cd24ea1d",
   "metadata": {},
   "outputs": [],
   "source": [
    "import findspark\n",
    "findspark.init()\n",
    "\n",
    "import numpy as np\n",
    "import time\n",
    "import pyspark as ps\n",
    "from pyspark import SparkConf\n",
    "\n",
    "from pyspark.sql import SparkSession\n",
    "from pyspark.sql import SQLContext\n",
    "from pyspark.sql.types import *\n",
    "from pyspark.sql.functions import *\n",
    "\n",
    "from pyspark.ml.classification import LogisticRegression\n",
    "from pyspark.ml.classification import RandomForestClassifier\n",
    "from pyspark.ml.feature import VectorAssembler, MinMaxScaler\n",
    "from pyspark.ml.evaluation import MulticlassClassificationEvaluator"
   ]
  },
  {
   "cell_type": "code",
   "execution_count": 2,
   "id": "c8444b69",
   "metadata": {},
   "outputs": [
    {
     "data": {
      "text/plain": [
       "<pyspark.conf.SparkConf at 0x7fc470406100>"
      ]
     },
     "execution_count": 2,
     "metadata": {},
     "output_type": "execute_result"
    }
   ],
   "source": [
    "conf = SparkConf()\n",
    "conf.set('spark.executor.memory', '16g')\n",
    "conf.set('spark.driver.memory', '8g')"
   ]
  },
  {
   "cell_type": "code",
   "execution_count": 3,
   "id": "be94b496",
   "metadata": {},
   "outputs": [
    {
     "name": "stderr",
     "output_type": "stream",
     "text": [
      "2022-01-28 23:04:33,317 WARN util.Utils: Your hostname, Jin resolves to a loopback address: 127.0.1.1; using 192.168.43.24 instead (on interface wifi0)\n",
      "2022-01-28 23:04:33,319 WARN util.Utils: Set SPARK_LOCAL_IP if you need to bind to another address\n",
      "Setting default log level to \"WARN\".\n",
      "To adjust logging level use sc.setLogLevel(newLevel). For SparkR, use setLogLevel(newLevel).\n",
      "2022-01-28 23:04:35,270 WARN util.NativeCodeLoader: Unable to load native-hadoop library for your platform... using builtin-java classes where applicable\n"
     ]
    }
   ],
   "source": [
    "#Create SparkSession\n",
    "spark = SparkSession \\\n",
    "    .builder \\\n",
    "    .appName('Restaurant Customer Satisfaction Rating') \\\n",
    "    .config(conf=conf) \\\n",
    "    .getOrCreate()"
   ]
  },
  {
   "cell_type": "code",
   "execution_count": 4,
   "id": "7781aa70",
   "metadata": {},
   "outputs": [
    {
     "name": "stderr",
     "output_type": "stream",
     "text": [
      "                                                                                \r"
     ]
    },
    {
     "name": "stdout",
     "output_type": "stream",
     "text": [
      "+---+-----+----+-----+-----------------+------------------+------+\n",
      "|_c0| name|city|price|number of reviews|number of cuisines|rating|\n",
      "+---+-----+----+-----+-----------------+------------------+------+\n",
      "|  0|63428|   0|  1.0|            136.0|               3.0|   2.0|\n",
      "|  1|26471|   0|  2.0|            812.0|               4.0|   2.0|\n",
      "|  2|52831|   0|  2.0|            567.0|               6.0|   2.0|\n",
      "+---+-----+----+-----+-----------------+------------------+------+\n",
      "only showing top 3 rows\n",
      "\n"
     ]
    },
    {
     "name": "stderr",
     "output_type": "stream",
     "text": [
      "2022-01-28 23:05:07,562 WARN csv.CSVHeaderChecker: CSV header does not conform to the schema.\n",
      " Header: , name, city, price, number of reviews, number of cuisines, rating\n",
      " Schema: _c0, name, city, price, number of reviews, number of cuisines, rating\n",
      "Expected: _c0 but found: \n",
      "CSV file: hdfs://localhost:9000/user/jin/smote_data.csv\n"
     ]
    }
   ],
   "source": [
    "#Load data\n",
    "load_start = time.process_time_ns()\n",
    "df = spark.read.csv('smote_data.csv', inferSchema=True, header=True)\n",
    "load_end = time.process_time_ns() - load_start\n",
    "df.show(3)"
   ]
  },
  {
   "cell_type": "code",
   "execution_count": 12,
   "id": "09be702c",
   "metadata": {},
   "outputs": [
    {
     "name": "stderr",
     "output_type": "stream",
     "text": [
      "                                                                                \r"
     ]
    },
    {
     "name": "stdout",
     "output_type": "stream",
     "text": [
      "+---+-----+----+-----+-----------------+------------------+------+\n",
      "|_c0| name|city|price|number of reviews|number of cuisines|rating|\n",
      "+---+-----+----+-----+-----------------+------------------+------+\n",
      "|  0|63434|   0|  1.0|            136.0|               3.0|   2.0|\n",
      "|  1|26477|   0|  2.0|            812.0|               4.0|   2.0|\n",
      "|  2|52837|   0|  2.0|            567.0|               6.0|   2.0|\n",
      "+---+-----+----+-----+-----------------+------------------+------+\n",
      "only showing top 3 rows\n",
      "\n"
     ]
    },
    {
     "name": "stderr",
     "output_type": "stream",
     "text": [
      "2022-01-16 21:44:02,517 WARN csv.CSVHeaderChecker: CSV header does not conform to the schema.\n",
      " Header: , name, city, price, number of reviews, number of cuisines, rating\n",
      " Schema: _c0, name, city, price, number of reviews, number of cuisines, rating\n",
      "Expected: _c0 but found: \n",
      "CSV file: hdfs://localhost:9000/user/jin/final_increase.csv\n"
     ]
    }
   ],
   "source": [
    "#Load increased size data\n",
    "load_start = time.process_time_ns()\n",
    "df = spark.read.csv('final_increase.csv', inferSchema=True, header=True)\n",
    "load_end = time.process_time_ns() - load_start\n",
    "df.show(3)"
   ]
  },
  {
   "cell_type": "code",
   "execution_count": 5,
   "id": "fcf6f6d4",
   "metadata": {
    "scrolled": true
   },
   "outputs": [
    {
     "name": "stdout",
     "output_type": "stream",
     "text": [
      "Time elapsed to load larger dataset: 15625000 ns\n"
     ]
    }
   ],
   "source": [
    "print(\"Time elapsed to load larger dataset: %d ns\" % (load_end)) "
   ]
  },
  {
   "cell_type": "code",
   "execution_count": 6,
   "id": "a10571e3",
   "metadata": {},
   "outputs": [
    {
     "name": "stdout",
     "output_type": "stream",
     "text": [
      "root\n",
      " |-- _c0: integer (nullable = true)\n",
      " |-- name: integer (nullable = true)\n",
      " |-- city: integer (nullable = true)\n",
      " |-- price: double (nullable = true)\n",
      " |-- number of reviews: double (nullable = true)\n",
      " |-- number of cuisines: double (nullable = true)\n",
      " |-- rating: double (nullable = true)\n",
      "\n"
     ]
    }
   ],
   "source": [
    "#View details of the dataframe\n",
    "df.printSchema()"
   ]
  },
  {
   "cell_type": "code",
   "execution_count": 7,
   "id": "a314ad97",
   "metadata": {},
   "outputs": [],
   "source": [
    "#Drop index and name columns\n",
    "df = df.drop('_c0')\n",
    "#df = df.drop('Unnamed: 0')\n",
    "#df = df.drop('Unnamed: 0.1')\n",
    "df = df.drop('name')"
   ]
  },
  {
   "cell_type": "code",
   "execution_count": 8,
   "id": "227a59c0",
   "metadata": {},
   "outputs": [
    {
     "name": "stderr",
     "output_type": "stream",
     "text": [
      "                                                                                \r"
     ]
    },
    {
     "data": {
      "text/html": [
       "<div>\n",
       "<style scoped>\n",
       "    .dataframe tbody tr th:only-of-type {\n",
       "        vertical-align: middle;\n",
       "    }\n",
       "\n",
       "    .dataframe tbody tr th {\n",
       "        vertical-align: top;\n",
       "    }\n",
       "\n",
       "    .dataframe thead th {\n",
       "        text-align: right;\n",
       "    }\n",
       "</style>\n",
       "<table border=\"1\" class=\"dataframe\">\n",
       "  <thead>\n",
       "    <tr style=\"text-align: right;\">\n",
       "      <th></th>\n",
       "      <th>rating</th>\n",
       "      <th>count</th>\n",
       "    </tr>\n",
       "  </thead>\n",
       "  <tbody>\n",
       "    <tr>\n",
       "      <th>0</th>\n",
       "      <td>0.0</td>\n",
       "      <td>91993</td>\n",
       "    </tr>\n",
       "    <tr>\n",
       "      <th>1</th>\n",
       "      <td>1.0</td>\n",
       "      <td>91993</td>\n",
       "    </tr>\n",
       "    <tr>\n",
       "      <th>2</th>\n",
       "      <td>2.0</td>\n",
       "      <td>91993</td>\n",
       "    </tr>\n",
       "  </tbody>\n",
       "</table>\n",
       "</div>"
      ],
      "text/plain": [
       "   rating  count\n",
       "0     0.0  91993\n",
       "1     1.0  91993\n",
       "2     2.0  91993"
      ]
     },
     "execution_count": 8,
     "metadata": {},
     "output_type": "execute_result"
    }
   ],
   "source": [
    "#Check frequency of target classes\n",
    "df.groupby('rating').count().toPandas()"
   ]
  },
  {
   "cell_type": "code",
   "execution_count": 15,
   "id": "e0a14b63",
   "metadata": {
    "scrolled": true
   },
   "outputs": [
    {
     "name": "stderr",
     "output_type": "stream",
     "text": [
      "                                                                                \r"
     ]
    },
    {
     "data": {
      "text/html": [
       "<div>\n",
       "<style scoped>\n",
       "    .dataframe tbody tr th:only-of-type {\n",
       "        vertical-align: middle;\n",
       "    }\n",
       "\n",
       "    .dataframe tbody tr th {\n",
       "        vertical-align: top;\n",
       "    }\n",
       "\n",
       "    .dataframe thead th {\n",
       "        text-align: right;\n",
       "    }\n",
       "</style>\n",
       "<table border=\"1\" class=\"dataframe\">\n",
       "  <thead>\n",
       "    <tr style=\"text-align: right;\">\n",
       "      <th></th>\n",
       "      <th>summary</th>\n",
       "      <th>number of reviews</th>\n",
       "      <th>number of cuisines</th>\n",
       "    </tr>\n",
       "  </thead>\n",
       "  <tbody>\n",
       "    <tr>\n",
       "      <th>0</th>\n",
       "      <td>count</td>\n",
       "      <td>30275979</td>\n",
       "      <td>30275979</td>\n",
       "    </tr>\n",
       "    <tr>\n",
       "      <th>1</th>\n",
       "      <td>mean</td>\n",
       "      <td>458.7242735857035</td>\n",
       "      <td>3.1033759196204516</td>\n",
       "    </tr>\n",
       "    <tr>\n",
       "      <th>2</th>\n",
       "      <td>stddev</td>\n",
       "      <td>611.6318743593515</td>\n",
       "      <td>1.6788293527402762</td>\n",
       "    </tr>\n",
       "    <tr>\n",
       "      <th>3</th>\n",
       "      <td>min</td>\n",
       "      <td>2.0</td>\n",
       "      <td>1.0</td>\n",
       "    </tr>\n",
       "    <tr>\n",
       "      <th>4</th>\n",
       "      <td>max</td>\n",
       "      <td>16478.0</td>\n",
       "      <td>21.0</td>\n",
       "    </tr>\n",
       "  </tbody>\n",
       "</table>\n",
       "</div>"
      ],
      "text/plain": [
       "  summary  number of reviews  number of cuisines\n",
       "0   count           30275979            30275979\n",
       "1    mean  458.7242735857035  3.1033759196204516\n",
       "2  stddev  611.6318743593515  1.6788293527402762\n",
       "3     min                2.0                 1.0\n",
       "4     max            16478.0                21.0"
      ]
     },
     "execution_count": 15,
     "metadata": {},
     "output_type": "execute_result"
    }
   ],
   "source": [
    "#Statistical Information of the interval variables\n",
    "df.select('number of reviews', 'number of cuisines').describe().toPandas()"
   ]
  },
  {
   "cell_type": "code",
   "execution_count": 16,
   "id": "2e342342",
   "metadata": {},
   "outputs": [
    {
     "name": "stderr",
     "output_type": "stream",
     "text": [
      "[Stage 9:====================================================>      (8 + 1) / 9]\r"
     ]
    },
    {
     "name": "stdout",
     "output_type": "stream",
     "text": [
      "+----+-----+-----------------+------------------+------+\n",
      "|city|price|number of reviews|number of cuisines|rating|\n",
      "+----+-----+-----------------+------------------+------+\n",
      "|   0|    0|                0|                 0|     0|\n",
      "+----+-----+-----------------+------------------+------+\n",
      "\n"
     ]
    },
    {
     "name": "stderr",
     "output_type": "stream",
     "text": [
      "\r",
      "                                                                                \r"
     ]
    }
   ],
   "source": [
    "#Check for missing value\n",
    "df.select([count(when(isnull(c), c)).alias(c) for c in df.columns]).show()"
   ]
  },
  {
   "cell_type": "code",
   "execution_count": 17,
   "id": "cdb53fe5",
   "metadata": {},
   "outputs": [
    {
     "name": "stderr",
     "output_type": "stream",
     "text": [
      "[Stage 12:===================================================>      (8 + 1) / 9]\r"
     ]
    },
    {
     "name": "stdout",
     "output_type": "stream",
     "text": [
      "+---------------------------+----------------------------+\n",
      "|skewness(number of reviews)|skewness(number of cuisines)|\n",
      "+---------------------------+----------------------------+\n",
      "|         12.136914635728585|           2.876650953501786|\n",
      "+---------------------------+----------------------------+\n",
      "\n"
     ]
    },
    {
     "name": "stderr",
     "output_type": "stream",
     "text": [
      "\r",
      "                                                                                \r"
     ]
    }
   ],
   "source": [
    "#Check for data skewness\n",
    "df.select(skewness(df['number of reviews']), skewness(df['number of cuisines'])).show()"
   ]
  },
  {
   "cell_type": "code",
   "execution_count": 9,
   "id": "47069f08",
   "metadata": {},
   "outputs": [],
   "source": [
    "#log transformation on skewed features\n",
    "df = df.withColumn('log_reviews', log(df['number of reviews']))\n",
    "df = df.withColumn('log_cuisines', log(df['number of cuisines']))"
   ]
  },
  {
   "cell_type": "code",
   "execution_count": 10,
   "id": "694ce0d7",
   "metadata": {},
   "outputs": [
    {
     "name": "stderr",
     "output_type": "stream",
     "text": [
      "                                                                                \r"
     ]
    },
    {
     "name": "stdout",
     "output_type": "stream",
     "text": [
      "+----+-----+-----------------+------------------+------+-----------------+------------------+--------------------+--------------------+\n",
      "|city|price|number of reviews|number of cuisines|rating|      log_reviews|      log_cuisines|            features|      scaledFeatures|\n",
      "+----+-----+-----------------+------------------+------+-----------------+------------------+--------------------+--------------------+\n",
      "|   0|  1.0|            136.0|               3.0|   2.0|4.912654885736052|1.0986122886681096|[0.0,1.0,4.912654...|[0.0,0.5,0.467969...|\n",
      "|   0|  2.0|            812.0|               4.0|   2.0|6.699500340161678|1.3862943611198906|[0.0,2.0,6.699500...|[0.0,1.0,0.666141...|\n",
      "|   0|  2.0|            567.0|               6.0|   2.0|6.340359303727752| 1.791759469228055|[0.0,2.0,6.340359...|[0.0,1.0,0.626310...|\n",
      "+----+-----+-----------------+------------------+------+-----------------+------------------+--------------------+--------------------+\n",
      "only showing top 3 rows\n",
      "\n"
     ]
    }
   ],
   "source": [
    "# Assemble and scale all the features with VectorAssembler\n",
    "required_features = ['city',\n",
    "                    'price',\n",
    "                    'log_reviews',\n",
    "                    'log_cuisines'\n",
    "                   ]\n",
    "\n",
    "assembler = VectorAssembler(inputCols=required_features, outputCol='features')\n",
    "transformed_data = assembler.transform(df)\n",
    "\n",
    "scaler = MinMaxScaler(inputCol='features', outputCol='scaledFeatures')\n",
    "scalerModel = scaler.fit(transformed_data.select('features'))\n",
    "scaled_data = scalerModel.transform(transformed_data)\n",
    "scaled_data.show(3)"
   ]
  },
  {
   "cell_type": "code",
   "execution_count": 11,
   "id": "90556efb",
   "metadata": {},
   "outputs": [
    {
     "name": "stderr",
     "output_type": "stream",
     "text": [
      "[Stage 13:===========================================>              (3 + 1) / 4]\r"
     ]
    },
    {
     "name": "stdout",
     "output_type": "stream",
     "text": [
      "Training data rows: 193213 ; Testing data rows: 82766\n"
     ]
    },
    {
     "name": "stderr",
     "output_type": "stream",
     "text": [
      "\r",
      "                                                                                \r"
     ]
    }
   ],
   "source": [
    "#Split into training data and testing data\n",
    "train_data, test_data = scaled_data.randomSplit([0.7, 0.3], seed=2020) \n",
    "print (\"Training data rows:\", train_data.count(), \"; Testing data rows:\", test_data.count())"
   ]
  },
  {
   "cell_type": "code",
   "execution_count": 12,
   "id": "070e560b",
   "metadata": {
    "scrolled": true
   },
   "outputs": [
    {
     "name": "stderr",
     "output_type": "stream",
     "text": [
      "2022-01-28 23:06:49,147 WARN netlib.InstanceBuilder$NativeBLAS: Failed to load implementation from:dev.ludovic.netlib.blas.JNIBLAS\n",
      "2022-01-28 23:06:49,168 WARN netlib.InstanceBuilder$NativeBLAS: Failed to load implementation from:dev.ludovic.netlib.blas.ForeignLinkerBLAS\n",
      "                                                                                \r"
     ]
    },
    {
     "name": "stdout",
     "output_type": "stream",
     "text": [
      "Time elapsed to model data 78125000 ns \n"
     ]
    }
   ],
   "source": [
    "#Model Training and Testing\n",
    "lr = LogisticRegression(featuresCol = 'scaledFeatures', labelCol = 'rating')\n",
    "model_start = time.process_time_ns()\n",
    "lrModel = lr.fit(train_data)\n",
    "lr_predictions = lrModel.transform(test_data)\n",
    "model_end = time.process_time_ns() - model_start\n",
    "print(\"Time elapsed to model data %d ns \" % (model_end)) "
   ]
  },
  {
   "cell_type": "code",
   "execution_count": 13,
   "id": "a43a01f5",
   "metadata": {},
   "outputs": [
    {
     "name": "stderr",
     "output_type": "stream",
     "text": [
      "[Stage 26:===========================================>              (3 + 1) / 4]\r"
     ]
    },
    {
     "name": "stdout",
     "output_type": "stream",
     "text": [
      "Logistic Regression Model Accuracy: 0.41\n"
     ]
    },
    {
     "name": "stderr",
     "output_type": "stream",
     "text": [
      "\r",
      "                                                                                \r"
     ]
    }
   ],
   "source": [
    "#Model Evaluation\n",
    "accuracy = MulticlassClassificationEvaluator(labelCol = 'rating', metricName = 'accuracy')\n",
    "print('Logistic Regression Model Accuracy:', np.round_(accuracy.evaluate(lr_predictions), 2))"
   ]
  },
  {
   "cell_type": "code",
   "execution_count": 16,
   "id": "e3126907",
   "metadata": {
    "scrolled": true
   },
   "outputs": [
    {
     "name": "stderr",
     "output_type": "stream",
     "text": [
      "                                                                                \r"
     ]
    },
    {
     "name": "stdout",
     "output_type": "stream",
     "text": [
      "Time elapsed to model data 171875000 ns\n"
     ]
    }
   ],
   "source": [
    "rf = RandomForestClassifier(labelCol='rating', featuresCol='scaledFeatures')\n",
    "model_start = time.process_time_ns()\n",
    "model = rf.fit(train_data)\n",
    "rf_predictions = model.transform(test_data)\n",
    "model_end = time.process_time_ns() - model_start\n",
    "print(\"Time elapsed to model data %d ns\" % (model_end)) "
   ]
  },
  {
   "cell_type": "code",
   "execution_count": 17,
   "id": "5f70a5da",
   "metadata": {
    "scrolled": true
   },
   "outputs": [
    {
     "name": "stderr",
     "output_type": "stream",
     "text": [
      "[Stage 64:===========================================>              (3 + 1) / 4]\r"
     ]
    },
    {
     "name": "stdout",
     "output_type": "stream",
     "text": [
      "Random Forest Model Accuracy: 0.55\n"
     ]
    },
    {
     "name": "stderr",
     "output_type": "stream",
     "text": [
      "\r",
      "                                                                                \r"
     ]
    }
   ],
   "source": [
    "accuracy = MulticlassClassificationEvaluator(labelCol = 'rating', metricName = 'accuracy')\n",
    "print('Random Forest Model Accuracy:', np.round_(accuracy.evaluate(rf_predictions), 2))"
   ]
  }
 ],
 "metadata": {
  "kernelspec": {
   "display_name": "Python 3 (ipykernel)",
   "language": "python",
   "name": "python3"
  },
  "language_info": {
   "codemirror_mode": {
    "name": "ipython",
    "version": 3
   },
   "file_extension": ".py",
   "mimetype": "text/x-python",
   "name": "python",
   "nbconvert_exporter": "python",
   "pygments_lexer": "ipython3",
   "version": "3.8.10"
  }
 },
 "nbformat": 4,
 "nbformat_minor": 5
}
